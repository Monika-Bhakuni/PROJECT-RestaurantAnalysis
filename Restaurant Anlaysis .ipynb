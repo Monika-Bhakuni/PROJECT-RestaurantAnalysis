{
 "cells": [
  {
   "cell_type": "code",
   "execution_count": 2,
   "id": "6d2e9896",
   "metadata": {},
   "outputs": [],
   "source": [
    "#import all necessary libraries\n",
    "import pandas as pd\n",
    "import numpy as np \n",
    " \n"
   ]
  },
  {
   "cell_type": "code",
   "execution_count": 3,
   "id": "60eaa800",
   "metadata": {},
   "outputs": [
    {
     "data": {
      "text/html": [
       "<div>\n",
       "<style scoped>\n",
       "    .dataframe tbody tr th:only-of-type {\n",
       "        vertical-align: middle;\n",
       "    }\n",
       "\n",
       "    .dataframe tbody tr th {\n",
       "        vertical-align: top;\n",
       "    }\n",
       "\n",
       "    .dataframe thead th {\n",
       "        text-align: right;\n",
       "    }\n",
       "</style>\n",
       "<table border=\"1\" class=\"dataframe\">\n",
       "  <thead>\n",
       "    <tr style=\"text-align: right;\">\n",
       "      <th></th>\n",
       "      <th>url</th>\n",
       "      <th>address</th>\n",
       "      <th>name</th>\n",
       "      <th>online_order</th>\n",
       "      <th>book_table</th>\n",
       "      <th>rate</th>\n",
       "      <th>votes</th>\n",
       "      <th>phone</th>\n",
       "      <th>location</th>\n",
       "      <th>rest_type</th>\n",
       "      <th>dish_liked</th>\n",
       "      <th>cuisines</th>\n",
       "      <th>approx_cost(for two people)</th>\n",
       "      <th>reviews_list</th>\n",
       "      <th>menu_item</th>\n",
       "      <th>listed_in(type)</th>\n",
       "      <th>listed_in(city)</th>\n",
       "    </tr>\n",
       "  </thead>\n",
       "  <tbody>\n",
       "    <tr>\n",
       "      <th>0</th>\n",
       "      <td>https://www.zomato.com/bangalore/jalsa-banasha...</td>\n",
       "      <td>942, 21st Main Road, 2nd Stage, Banashankari, ...</td>\n",
       "      <td>Jalsa</td>\n",
       "      <td>Yes</td>\n",
       "      <td>Yes</td>\n",
       "      <td>4.1/5</td>\n",
       "      <td>775</td>\n",
       "      <td>080 42297555\\r\\n+91 9743772233</td>\n",
       "      <td>Banashankari</td>\n",
       "      <td>Casual Dining</td>\n",
       "      <td>Pasta, Lunch Buffet, Masala Papad, Paneer Laja...</td>\n",
       "      <td>North Indian, Mughlai, Chinese</td>\n",
       "      <td>800</td>\n",
       "      <td>[('Rated 4.0', 'RATED\\n  A beautiful place to ...</td>\n",
       "      <td>[]</td>\n",
       "      <td>Buffet</td>\n",
       "      <td>Banashankari</td>\n",
       "    </tr>\n",
       "    <tr>\n",
       "      <th>1</th>\n",
       "      <td>https://www.zomato.com/bangalore/spice-elephan...</td>\n",
       "      <td>2nd Floor, 80 Feet Road, Near Big Bazaar, 6th ...</td>\n",
       "      <td>Spice Elephant</td>\n",
       "      <td>Yes</td>\n",
       "      <td>No</td>\n",
       "      <td>4.1/5</td>\n",
       "      <td>787</td>\n",
       "      <td>080 41714161</td>\n",
       "      <td>Banashankari</td>\n",
       "      <td>Casual Dining</td>\n",
       "      <td>Momos, Lunch Buffet, Chocolate Nirvana, Thai G...</td>\n",
       "      <td>Chinese, North Indian, Thai</td>\n",
       "      <td>800</td>\n",
       "      <td>[('Rated 4.0', 'RATED\\n  Had been here for din...</td>\n",
       "      <td>[]</td>\n",
       "      <td>Buffet</td>\n",
       "      <td>Banashankari</td>\n",
       "    </tr>\n",
       "    <tr>\n",
       "      <th>2</th>\n",
       "      <td>https://www.zomato.com/SanchurroBangalore?cont...</td>\n",
       "      <td>1112, Next to KIMS Medical College, 17th Cross...</td>\n",
       "      <td>San Churro Cafe</td>\n",
       "      <td>Yes</td>\n",
       "      <td>No</td>\n",
       "      <td>3.8/5</td>\n",
       "      <td>918</td>\n",
       "      <td>+91 9663487993</td>\n",
       "      <td>Banashankari</td>\n",
       "      <td>Cafe, Casual Dining</td>\n",
       "      <td>Churros, Cannelloni, Minestrone Soup, Hot Choc...</td>\n",
       "      <td>Cafe, Mexican, Italian</td>\n",
       "      <td>800</td>\n",
       "      <td>[('Rated 3.0', \"RATED\\n  Ambience is not that ...</td>\n",
       "      <td>[]</td>\n",
       "      <td>Buffet</td>\n",
       "      <td>Banashankari</td>\n",
       "    </tr>\n",
       "    <tr>\n",
       "      <th>3</th>\n",
       "      <td>https://www.zomato.com/bangalore/addhuri-udupi...</td>\n",
       "      <td>1st Floor, Annakuteera, 3rd Stage, Banashankar...</td>\n",
       "      <td>Addhuri Udupi Bhojana</td>\n",
       "      <td>No</td>\n",
       "      <td>No</td>\n",
       "      <td>3.7/5</td>\n",
       "      <td>88</td>\n",
       "      <td>+91 9620009302</td>\n",
       "      <td>Banashankari</td>\n",
       "      <td>Quick Bites</td>\n",
       "      <td>Masala Dosa</td>\n",
       "      <td>South Indian, North Indian</td>\n",
       "      <td>300</td>\n",
       "      <td>[('Rated 4.0', \"RATED\\n  Great food and proper...</td>\n",
       "      <td>[]</td>\n",
       "      <td>Buffet</td>\n",
       "      <td>Banashankari</td>\n",
       "    </tr>\n",
       "    <tr>\n",
       "      <th>4</th>\n",
       "      <td>https://www.zomato.com/bangalore/grand-village...</td>\n",
       "      <td>10, 3rd Floor, Lakshmi Associates, Gandhi Baza...</td>\n",
       "      <td>Grand Village</td>\n",
       "      <td>No</td>\n",
       "      <td>No</td>\n",
       "      <td>3.8/5</td>\n",
       "      <td>166</td>\n",
       "      <td>+91 8026612447\\r\\n+91 9901210005</td>\n",
       "      <td>Basavanagudi</td>\n",
       "      <td>Casual Dining</td>\n",
       "      <td>Panipuri, Gol Gappe</td>\n",
       "      <td>North Indian, Rajasthani</td>\n",
       "      <td>600</td>\n",
       "      <td>[('Rated 4.0', 'RATED\\n  Very good restaurant ...</td>\n",
       "      <td>[]</td>\n",
       "      <td>Buffet</td>\n",
       "      <td>Banashankari</td>\n",
       "    </tr>\n",
       "    <tr>\n",
       "      <th>5</th>\n",
       "      <td>https://www.zomato.com/bangalore/timepass-dinn...</td>\n",
       "      <td>37, 5-1, 4th Floor, Bosco Court, Gandhi Bazaar...</td>\n",
       "      <td>Timepass Dinner</td>\n",
       "      <td>Yes</td>\n",
       "      <td>No</td>\n",
       "      <td>3.8/5</td>\n",
       "      <td>286</td>\n",
       "      <td>+91 9980040002\\r\\n+91 9980063005</td>\n",
       "      <td>Basavanagudi</td>\n",
       "      <td>Casual Dining</td>\n",
       "      <td>Onion Rings, Pasta, Kadhai Paneer, Salads, Sal...</td>\n",
       "      <td>North Indian</td>\n",
       "      <td>600</td>\n",
       "      <td>[('Rated 3.0', 'RATED\\n  Food 3/5\\nAmbience 3/...</td>\n",
       "      <td>[]</td>\n",
       "      <td>Buffet</td>\n",
       "      <td>Banashankari</td>\n",
       "    </tr>\n",
       "    <tr>\n",
       "      <th>6</th>\n",
       "      <td>https://www.zomato.com/bangalore/rosewood-inte...</td>\n",
       "      <td>19/1, New Timberyard Layout, Beside Satellite ...</td>\n",
       "      <td>Rosewood International Hotel - Bar &amp; Restaurant</td>\n",
       "      <td>No</td>\n",
       "      <td>No</td>\n",
       "      <td>3.6/5</td>\n",
       "      <td>8</td>\n",
       "      <td>+91 9731716688\\r\\n080 26740366</td>\n",
       "      <td>Mysore Road</td>\n",
       "      <td>Casual Dining</td>\n",
       "      <td>NaN</td>\n",
       "      <td>North Indian, South Indian, Andhra, Chinese</td>\n",
       "      <td>800</td>\n",
       "      <td>[('Rated 5.0', 'RATED\\n  Awesome food ??Great ...</td>\n",
       "      <td>[]</td>\n",
       "      <td>Buffet</td>\n",
       "      <td>Banashankari</td>\n",
       "    </tr>\n",
       "    <tr>\n",
       "      <th>7</th>\n",
       "      <td>https://www.zomato.com/bangalore/onesta-banash...</td>\n",
       "      <td>2469, 3rd Floor, 24th Cross, Opposite BDA Comp...</td>\n",
       "      <td>Onesta</td>\n",
       "      <td>Yes</td>\n",
       "      <td>Yes</td>\n",
       "      <td>4.6/5</td>\n",
       "      <td>2556</td>\n",
       "      <td>080 48653961\\r\\n080 48655715</td>\n",
       "      <td>Banashankari</td>\n",
       "      <td>Casual Dining, Cafe</td>\n",
       "      <td>Farmhouse Pizza, Chocolate Banana, Virgin Moji...</td>\n",
       "      <td>Pizza, Cafe, Italian</td>\n",
       "      <td>600</td>\n",
       "      <td>[('Rated 5.0', 'RATED\\n  I personally really l...</td>\n",
       "      <td>[]</td>\n",
       "      <td>Cafes</td>\n",
       "      <td>Banashankari</td>\n",
       "    </tr>\n",
       "    <tr>\n",
       "      <th>8</th>\n",
       "      <td>https://www.zomato.com/bangalore/penthouse-caf...</td>\n",
       "      <td>1, 30th Main Road, 3rd Stage, Banashankari, Ba...</td>\n",
       "      <td>Penthouse Cafe</td>\n",
       "      <td>Yes</td>\n",
       "      <td>No</td>\n",
       "      <td>4.0/5</td>\n",
       "      <td>324</td>\n",
       "      <td>+91 8884135549\\r\\n+91 9449449316</td>\n",
       "      <td>Banashankari</td>\n",
       "      <td>Cafe</td>\n",
       "      <td>Pizza, Mocktails, Coffee, Nachos, Salad, Pasta...</td>\n",
       "      <td>Cafe, Italian, Continental</td>\n",
       "      <td>700</td>\n",
       "      <td>[('Rated 3.0', \"RATED\\n  I had been to this pl...</td>\n",
       "      <td>[]</td>\n",
       "      <td>Cafes</td>\n",
       "      <td>Banashankari</td>\n",
       "    </tr>\n",
       "    <tr>\n",
       "      <th>9</th>\n",
       "      <td>https://www.zomato.com/bangalore/smacznego-ban...</td>\n",
       "      <td>2470, 21 Main Road, 25th Cross, Banashankari, ...</td>\n",
       "      <td>Smacznego</td>\n",
       "      <td>Yes</td>\n",
       "      <td>No</td>\n",
       "      <td>4.2/5</td>\n",
       "      <td>504</td>\n",
       "      <td>+91 9945230807\\r\\n+91 9743804471</td>\n",
       "      <td>Banashankari</td>\n",
       "      <td>Cafe</td>\n",
       "      <td>Waffles, Pasta, Coleslaw Sandwich, Choco Waffl...</td>\n",
       "      <td>Cafe, Mexican, Italian, Momos, Beverages</td>\n",
       "      <td>550</td>\n",
       "      <td>[('Rated 4.0', \"RATED\\n  Easy to locate\\nVFM 3...</td>\n",
       "      <td>[]</td>\n",
       "      <td>Cafes</td>\n",
       "      <td>Banashankari</td>\n",
       "    </tr>\n",
       "  </tbody>\n",
       "</table>\n",
       "</div>"
      ],
      "text/plain": [
       "                                                 url  \\\n",
       "0  https://www.zomato.com/bangalore/jalsa-banasha...   \n",
       "1  https://www.zomato.com/bangalore/spice-elephan...   \n",
       "2  https://www.zomato.com/SanchurroBangalore?cont...   \n",
       "3  https://www.zomato.com/bangalore/addhuri-udupi...   \n",
       "4  https://www.zomato.com/bangalore/grand-village...   \n",
       "5  https://www.zomato.com/bangalore/timepass-dinn...   \n",
       "6  https://www.zomato.com/bangalore/rosewood-inte...   \n",
       "7  https://www.zomato.com/bangalore/onesta-banash...   \n",
       "8  https://www.zomato.com/bangalore/penthouse-caf...   \n",
       "9  https://www.zomato.com/bangalore/smacznego-ban...   \n",
       "\n",
       "                                             address  \\\n",
       "0  942, 21st Main Road, 2nd Stage, Banashankari, ...   \n",
       "1  2nd Floor, 80 Feet Road, Near Big Bazaar, 6th ...   \n",
       "2  1112, Next to KIMS Medical College, 17th Cross...   \n",
       "3  1st Floor, Annakuteera, 3rd Stage, Banashankar...   \n",
       "4  10, 3rd Floor, Lakshmi Associates, Gandhi Baza...   \n",
       "5  37, 5-1, 4th Floor, Bosco Court, Gandhi Bazaar...   \n",
       "6  19/1, New Timberyard Layout, Beside Satellite ...   \n",
       "7  2469, 3rd Floor, 24th Cross, Opposite BDA Comp...   \n",
       "8  1, 30th Main Road, 3rd Stage, Banashankari, Ba...   \n",
       "9  2470, 21 Main Road, 25th Cross, Banashankari, ...   \n",
       "\n",
       "                                              name online_order book_table  \\\n",
       "0                                            Jalsa          Yes        Yes   \n",
       "1                                   Spice Elephant          Yes         No   \n",
       "2                                  San Churro Cafe          Yes         No   \n",
       "3                            Addhuri Udupi Bhojana           No         No   \n",
       "4                                    Grand Village           No         No   \n",
       "5                                  Timepass Dinner          Yes         No   \n",
       "6  Rosewood International Hotel - Bar & Restaurant           No         No   \n",
       "7                                           Onesta          Yes        Yes   \n",
       "8                                   Penthouse Cafe          Yes         No   \n",
       "9                                        Smacznego          Yes         No   \n",
       "\n",
       "    rate  votes                             phone      location  \\\n",
       "0  4.1/5    775    080 42297555\\r\\n+91 9743772233  Banashankari   \n",
       "1  4.1/5    787                      080 41714161  Banashankari   \n",
       "2  3.8/5    918                    +91 9663487993  Banashankari   \n",
       "3  3.7/5     88                    +91 9620009302  Banashankari   \n",
       "4  3.8/5    166  +91 8026612447\\r\\n+91 9901210005  Basavanagudi   \n",
       "5  3.8/5    286  +91 9980040002\\r\\n+91 9980063005  Basavanagudi   \n",
       "6  3.6/5      8    +91 9731716688\\r\\n080 26740366   Mysore Road   \n",
       "7  4.6/5   2556      080 48653961\\r\\n080 48655715  Banashankari   \n",
       "8  4.0/5    324  +91 8884135549\\r\\n+91 9449449316  Banashankari   \n",
       "9  4.2/5    504  +91 9945230807\\r\\n+91 9743804471  Banashankari   \n",
       "\n",
       "             rest_type                                         dish_liked  \\\n",
       "0        Casual Dining  Pasta, Lunch Buffet, Masala Papad, Paneer Laja...   \n",
       "1        Casual Dining  Momos, Lunch Buffet, Chocolate Nirvana, Thai G...   \n",
       "2  Cafe, Casual Dining  Churros, Cannelloni, Minestrone Soup, Hot Choc...   \n",
       "3          Quick Bites                                        Masala Dosa   \n",
       "4        Casual Dining                                Panipuri, Gol Gappe   \n",
       "5        Casual Dining  Onion Rings, Pasta, Kadhai Paneer, Salads, Sal...   \n",
       "6        Casual Dining                                                NaN   \n",
       "7  Casual Dining, Cafe  Farmhouse Pizza, Chocolate Banana, Virgin Moji...   \n",
       "8                 Cafe  Pizza, Mocktails, Coffee, Nachos, Salad, Pasta...   \n",
       "9                 Cafe  Waffles, Pasta, Coleslaw Sandwich, Choco Waffl...   \n",
       "\n",
       "                                      cuisines approx_cost(for two people)  \\\n",
       "0               North Indian, Mughlai, Chinese                         800   \n",
       "1                  Chinese, North Indian, Thai                         800   \n",
       "2                       Cafe, Mexican, Italian                         800   \n",
       "3                   South Indian, North Indian                         300   \n",
       "4                     North Indian, Rajasthani                         600   \n",
       "5                                 North Indian                         600   \n",
       "6  North Indian, South Indian, Andhra, Chinese                         800   \n",
       "7                         Pizza, Cafe, Italian                         600   \n",
       "8                   Cafe, Italian, Continental                         700   \n",
       "9     Cafe, Mexican, Italian, Momos, Beverages                         550   \n",
       "\n",
       "                                        reviews_list menu_item  \\\n",
       "0  [('Rated 4.0', 'RATED\\n  A beautiful place to ...        []   \n",
       "1  [('Rated 4.0', 'RATED\\n  Had been here for din...        []   \n",
       "2  [('Rated 3.0', \"RATED\\n  Ambience is not that ...        []   \n",
       "3  [('Rated 4.0', \"RATED\\n  Great food and proper...        []   \n",
       "4  [('Rated 4.0', 'RATED\\n  Very good restaurant ...        []   \n",
       "5  [('Rated 3.0', 'RATED\\n  Food 3/5\\nAmbience 3/...        []   \n",
       "6  [('Rated 5.0', 'RATED\\n  Awesome food ??Great ...        []   \n",
       "7  [('Rated 5.0', 'RATED\\n  I personally really l...        []   \n",
       "8  [('Rated 3.0', \"RATED\\n  I had been to this pl...        []   \n",
       "9  [('Rated 4.0', \"RATED\\n  Easy to locate\\nVFM 3...        []   \n",
       "\n",
       "  listed_in(type) listed_in(city)  \n",
       "0          Buffet    Banashankari  \n",
       "1          Buffet    Banashankari  \n",
       "2          Buffet    Banashankari  \n",
       "3          Buffet    Banashankari  \n",
       "4          Buffet    Banashankari  \n",
       "5          Buffet    Banashankari  \n",
       "6          Buffet    Banashankari  \n",
       "7           Cafes    Banashankari  \n",
       "8           Cafes    Banashankari  \n",
       "9           Cafes    Banashankari  "
      ]
     },
     "execution_count": 3,
     "metadata": {},
     "output_type": "execute_result"
    }
   ],
   "source": [
    "df= pd.read_csv(\"zomato.csv\")\n",
    "df.head(10)"
   ]
  },
  {
   "cell_type": "code",
   "execution_count": 4,
   "id": "2d24a376",
   "metadata": {},
   "outputs": [],
   "source": [
    "import matplotlib.pyplot as plt\n",
    "import seaborn as sns\n",
    "from sklearn.preprocessing import LabelEncoder, MinMaxScaler\n",
    "from sklearn.metrics import confusion_matrix, classification_report\n",
    "from sklearn.model_selection import train_test_split\n",
    "from sklearn.neighbors import KNeighborsClassifier"
   ]
  },
  {
   "cell_type": "markdown",
   "id": "9159f430",
   "metadata": {},
   "source": [
    "# Initial EDA"
   ]
  },
  {
   "cell_type": "code",
   "execution_count": 5,
   "id": "5b4da674",
   "metadata": {},
   "outputs": [
    {
     "data": {
      "text/html": [
       "<div>\n",
       "<style scoped>\n",
       "    .dataframe tbody tr th:only-of-type {\n",
       "        vertical-align: middle;\n",
       "    }\n",
       "\n",
       "    .dataframe tbody tr th {\n",
       "        vertical-align: top;\n",
       "    }\n",
       "\n",
       "    .dataframe thead th {\n",
       "        text-align: right;\n",
       "    }\n",
       "</style>\n",
       "<table border=\"1\" class=\"dataframe\">\n",
       "  <thead>\n",
       "    <tr style=\"text-align: right;\">\n",
       "      <th></th>\n",
       "      <th>url</th>\n",
       "      <th>address</th>\n",
       "      <th>name</th>\n",
       "      <th>online_order</th>\n",
       "      <th>book_table</th>\n",
       "      <th>rate</th>\n",
       "      <th>votes</th>\n",
       "      <th>phone</th>\n",
       "      <th>location</th>\n",
       "      <th>rest_type</th>\n",
       "      <th>dish_liked</th>\n",
       "      <th>cuisines</th>\n",
       "      <th>approx_cost(for two people)</th>\n",
       "      <th>reviews_list</th>\n",
       "      <th>menu_item</th>\n",
       "      <th>listed_in(type)</th>\n",
       "      <th>listed_in(city)</th>\n",
       "    </tr>\n",
       "  </thead>\n",
       "  <tbody>\n",
       "    <tr>\n",
       "      <th>0</th>\n",
       "      <td>https://www.zomato.com/bangalore/jalsa-banasha...</td>\n",
       "      <td>942, 21st Main Road, 2nd Stage, Banashankari, ...</td>\n",
       "      <td>Jalsa</td>\n",
       "      <td>Yes</td>\n",
       "      <td>Yes</td>\n",
       "      <td>4.1/5</td>\n",
       "      <td>775</td>\n",
       "      <td>080 42297555\\r\\n+91 9743772233</td>\n",
       "      <td>Banashankari</td>\n",
       "      <td>Casual Dining</td>\n",
       "      <td>Pasta, Lunch Buffet, Masala Papad, Paneer Laja...</td>\n",
       "      <td>North Indian, Mughlai, Chinese</td>\n",
       "      <td>800</td>\n",
       "      <td>[('Rated 4.0', 'RATED\\n  A beautiful place to ...</td>\n",
       "      <td>[]</td>\n",
       "      <td>Buffet</td>\n",
       "      <td>Banashankari</td>\n",
       "    </tr>\n",
       "    <tr>\n",
       "      <th>1</th>\n",
       "      <td>https://www.zomato.com/bangalore/spice-elephan...</td>\n",
       "      <td>2nd Floor, 80 Feet Road, Near Big Bazaar, 6th ...</td>\n",
       "      <td>Spice Elephant</td>\n",
       "      <td>Yes</td>\n",
       "      <td>No</td>\n",
       "      <td>4.1/5</td>\n",
       "      <td>787</td>\n",
       "      <td>080 41714161</td>\n",
       "      <td>Banashankari</td>\n",
       "      <td>Casual Dining</td>\n",
       "      <td>Momos, Lunch Buffet, Chocolate Nirvana, Thai G...</td>\n",
       "      <td>Chinese, North Indian, Thai</td>\n",
       "      <td>800</td>\n",
       "      <td>[('Rated 4.0', 'RATED\\n  Had been here for din...</td>\n",
       "      <td>[]</td>\n",
       "      <td>Buffet</td>\n",
       "      <td>Banashankari</td>\n",
       "    </tr>\n",
       "    <tr>\n",
       "      <th>2</th>\n",
       "      <td>https://www.zomato.com/SanchurroBangalore?cont...</td>\n",
       "      <td>1112, Next to KIMS Medical College, 17th Cross...</td>\n",
       "      <td>San Churro Cafe</td>\n",
       "      <td>Yes</td>\n",
       "      <td>No</td>\n",
       "      <td>3.8/5</td>\n",
       "      <td>918</td>\n",
       "      <td>+91 9663487993</td>\n",
       "      <td>Banashankari</td>\n",
       "      <td>Cafe, Casual Dining</td>\n",
       "      <td>Churros, Cannelloni, Minestrone Soup, Hot Choc...</td>\n",
       "      <td>Cafe, Mexican, Italian</td>\n",
       "      <td>800</td>\n",
       "      <td>[('Rated 3.0', \"RATED\\n  Ambience is not that ...</td>\n",
       "      <td>[]</td>\n",
       "      <td>Buffet</td>\n",
       "      <td>Banashankari</td>\n",
       "    </tr>\n",
       "    <tr>\n",
       "      <th>3</th>\n",
       "      <td>https://www.zomato.com/bangalore/addhuri-udupi...</td>\n",
       "      <td>1st Floor, Annakuteera, 3rd Stage, Banashankar...</td>\n",
       "      <td>Addhuri Udupi Bhojana</td>\n",
       "      <td>No</td>\n",
       "      <td>No</td>\n",
       "      <td>3.7/5</td>\n",
       "      <td>88</td>\n",
       "      <td>+91 9620009302</td>\n",
       "      <td>Banashankari</td>\n",
       "      <td>Quick Bites</td>\n",
       "      <td>Masala Dosa</td>\n",
       "      <td>South Indian, North Indian</td>\n",
       "      <td>300</td>\n",
       "      <td>[('Rated 4.0', \"RATED\\n  Great food and proper...</td>\n",
       "      <td>[]</td>\n",
       "      <td>Buffet</td>\n",
       "      <td>Banashankari</td>\n",
       "    </tr>\n",
       "    <tr>\n",
       "      <th>4</th>\n",
       "      <td>https://www.zomato.com/bangalore/grand-village...</td>\n",
       "      <td>10, 3rd Floor, Lakshmi Associates, Gandhi Baza...</td>\n",
       "      <td>Grand Village</td>\n",
       "      <td>No</td>\n",
       "      <td>No</td>\n",
       "      <td>3.8/5</td>\n",
       "      <td>166</td>\n",
       "      <td>+91 8026612447\\r\\n+91 9901210005</td>\n",
       "      <td>Basavanagudi</td>\n",
       "      <td>Casual Dining</td>\n",
       "      <td>Panipuri, Gol Gappe</td>\n",
       "      <td>North Indian, Rajasthani</td>\n",
       "      <td>600</td>\n",
       "      <td>[('Rated 4.0', 'RATED\\n  Very good restaurant ...</td>\n",
       "      <td>[]</td>\n",
       "      <td>Buffet</td>\n",
       "      <td>Banashankari</td>\n",
       "    </tr>\n",
       "  </tbody>\n",
       "</table>\n",
       "</div>"
      ],
      "text/plain": [
       "                                                 url  \\\n",
       "0  https://www.zomato.com/bangalore/jalsa-banasha...   \n",
       "1  https://www.zomato.com/bangalore/spice-elephan...   \n",
       "2  https://www.zomato.com/SanchurroBangalore?cont...   \n",
       "3  https://www.zomato.com/bangalore/addhuri-udupi...   \n",
       "4  https://www.zomato.com/bangalore/grand-village...   \n",
       "\n",
       "                                             address                   name  \\\n",
       "0  942, 21st Main Road, 2nd Stage, Banashankari, ...                  Jalsa   \n",
       "1  2nd Floor, 80 Feet Road, Near Big Bazaar, 6th ...         Spice Elephant   \n",
       "2  1112, Next to KIMS Medical College, 17th Cross...        San Churro Cafe   \n",
       "3  1st Floor, Annakuteera, 3rd Stage, Banashankar...  Addhuri Udupi Bhojana   \n",
       "4  10, 3rd Floor, Lakshmi Associates, Gandhi Baza...          Grand Village   \n",
       "\n",
       "  online_order book_table   rate  votes                             phone  \\\n",
       "0          Yes        Yes  4.1/5    775    080 42297555\\r\\n+91 9743772233   \n",
       "1          Yes         No  4.1/5    787                      080 41714161   \n",
       "2          Yes         No  3.8/5    918                    +91 9663487993   \n",
       "3           No         No  3.7/5     88                    +91 9620009302   \n",
       "4           No         No  3.8/5    166  +91 8026612447\\r\\n+91 9901210005   \n",
       "\n",
       "       location            rest_type  \\\n",
       "0  Banashankari        Casual Dining   \n",
       "1  Banashankari        Casual Dining   \n",
       "2  Banashankari  Cafe, Casual Dining   \n",
       "3  Banashankari          Quick Bites   \n",
       "4  Basavanagudi        Casual Dining   \n",
       "\n",
       "                                          dish_liked  \\\n",
       "0  Pasta, Lunch Buffet, Masala Papad, Paneer Laja...   \n",
       "1  Momos, Lunch Buffet, Chocolate Nirvana, Thai G...   \n",
       "2  Churros, Cannelloni, Minestrone Soup, Hot Choc...   \n",
       "3                                        Masala Dosa   \n",
       "4                                Panipuri, Gol Gappe   \n",
       "\n",
       "                         cuisines approx_cost(for two people)  \\\n",
       "0  North Indian, Mughlai, Chinese                         800   \n",
       "1     Chinese, North Indian, Thai                         800   \n",
       "2          Cafe, Mexican, Italian                         800   \n",
       "3      South Indian, North Indian                         300   \n",
       "4        North Indian, Rajasthani                         600   \n",
       "\n",
       "                                        reviews_list menu_item  \\\n",
       "0  [('Rated 4.0', 'RATED\\n  A beautiful place to ...        []   \n",
       "1  [('Rated 4.0', 'RATED\\n  Had been here for din...        []   \n",
       "2  [('Rated 3.0', \"RATED\\n  Ambience is not that ...        []   \n",
       "3  [('Rated 4.0', \"RATED\\n  Great food and proper...        []   \n",
       "4  [('Rated 4.0', 'RATED\\n  Very good restaurant ...        []   \n",
       "\n",
       "  listed_in(type) listed_in(city)  \n",
       "0          Buffet    Banashankari  \n",
       "1          Buffet    Banashankari  \n",
       "2          Buffet    Banashankari  \n",
       "3          Buffet    Banashankari  \n",
       "4          Buffet    Banashankari  "
      ]
     },
     "execution_count": 5,
     "metadata": {},
     "output_type": "execute_result"
    }
   ],
   "source": [
    "df.head()"
   ]
  },
  {
   "cell_type": "code",
   "execution_count": 6,
   "id": "b44aaa00",
   "metadata": {},
   "outputs": [
    {
     "data": {
      "text/plain": [
       "Index(['url', 'address', 'name', 'online_order', 'book_table', 'rate', 'votes',\n",
       "       'phone', 'location', 'rest_type', 'dish_liked', 'cuisines',\n",
       "       'approx_cost(for two people)', 'reviews_list', 'menu_item',\n",
       "       'listed_in(type)', 'listed_in(city)'],\n",
       "      dtype='object')"
      ]
     },
     "execution_count": 6,
     "metadata": {},
     "output_type": "execute_result"
    }
   ],
   "source": [
    "df.shape\n",
    "df.columns"
   ]
  },
  {
   "cell_type": "code",
   "execution_count": 7,
   "id": "f0297e19",
   "metadata": {},
   "outputs": [
    {
     "name": "stdout",
     "output_type": "stream",
     "text": [
      "<class 'pandas.core.frame.DataFrame'>\n",
      "RangeIndex: 51717 entries, 0 to 51716\n",
      "Data columns (total 17 columns):\n",
      " #   Column                       Non-Null Count  Dtype \n",
      "---  ------                       --------------  ----- \n",
      " 0   url                          51717 non-null  object\n",
      " 1   address                      51717 non-null  object\n",
      " 2   name                         51717 non-null  object\n",
      " 3   online_order                 51717 non-null  object\n",
      " 4   book_table                   51717 non-null  object\n",
      " 5   rate                         43942 non-null  object\n",
      " 6   votes                        51717 non-null  int64 \n",
      " 7   phone                        50509 non-null  object\n",
      " 8   location                     51696 non-null  object\n",
      " 9   rest_type                    51490 non-null  object\n",
      " 10  dish_liked                   23639 non-null  object\n",
      " 11  cuisines                     51672 non-null  object\n",
      " 12  approx_cost(for two people)  51371 non-null  object\n",
      " 13  reviews_list                 51717 non-null  object\n",
      " 14  menu_item                    51717 non-null  object\n",
      " 15  listed_in(type)              51717 non-null  object\n",
      " 16  listed_in(city)              51717 non-null  object\n",
      "dtypes: int64(1), object(16)\n",
      "memory usage: 6.7+ MB\n"
     ]
    }
   ],
   "source": [
    "df.info()"
   ]
  },
  {
   "cell_type": "code",
   "execution_count": 8,
   "id": "28024d6f",
   "metadata": {},
   "outputs": [
    {
     "data": {
      "text/html": [
       "<div>\n",
       "<style scoped>\n",
       "    .dataframe tbody tr th:only-of-type {\n",
       "        vertical-align: middle;\n",
       "    }\n",
       "\n",
       "    .dataframe tbody tr th {\n",
       "        vertical-align: top;\n",
       "    }\n",
       "\n",
       "    .dataframe thead th {\n",
       "        text-align: right;\n",
       "    }\n",
       "</style>\n",
       "<table border=\"1\" class=\"dataframe\">\n",
       "  <thead>\n",
       "    <tr style=\"text-align: right;\">\n",
       "      <th></th>\n",
       "      <th>votes</th>\n",
       "    </tr>\n",
       "  </thead>\n",
       "  <tbody>\n",
       "    <tr>\n",
       "      <th>count</th>\n",
       "      <td>51717.000000</td>\n",
       "    </tr>\n",
       "    <tr>\n",
       "      <th>mean</th>\n",
       "      <td>283.697527</td>\n",
       "    </tr>\n",
       "    <tr>\n",
       "      <th>std</th>\n",
       "      <td>803.838853</td>\n",
       "    </tr>\n",
       "    <tr>\n",
       "      <th>min</th>\n",
       "      <td>0.000000</td>\n",
       "    </tr>\n",
       "    <tr>\n",
       "      <th>25%</th>\n",
       "      <td>7.000000</td>\n",
       "    </tr>\n",
       "    <tr>\n",
       "      <th>50%</th>\n",
       "      <td>41.000000</td>\n",
       "    </tr>\n",
       "    <tr>\n",
       "      <th>75%</th>\n",
       "      <td>198.000000</td>\n",
       "    </tr>\n",
       "    <tr>\n",
       "      <th>max</th>\n",
       "      <td>16832.000000</td>\n",
       "    </tr>\n",
       "  </tbody>\n",
       "</table>\n",
       "</div>"
      ],
      "text/plain": [
       "              votes\n",
       "count  51717.000000\n",
       "mean     283.697527\n",
       "std      803.838853\n",
       "min        0.000000\n",
       "25%        7.000000\n",
       "50%       41.000000\n",
       "75%      198.000000\n",
       "max    16832.000000"
      ]
     },
     "execution_count": 8,
     "metadata": {},
     "output_type": "execute_result"
    }
   ],
   "source": [
    "df.describe()"
   ]
  },
  {
   "cell_type": "markdown",
   "id": "10fe09c5",
   "metadata": {},
   "source": [
    "# Data Preprocessing\n"
   ]
  },
  {
   "cell_type": "markdown",
   "id": "c0a0512b",
   "metadata": {},
   "source": [
    "## Before we can use this dataset, we need to do Data Preprocessing which include:¶\n",
    "## Data Cleaning\n",
    "## Data Manipulation"
   ]
  },
  {
   "cell_type": "code",
   "execution_count": 9,
   "id": "4f69d624",
   "metadata": {},
   "outputs": [
    {
     "data": {
      "text/plain": [
       "array(['800', '300', '600', '700', '550', '500', '450', '650', '400',\n",
       "       '900', '200', '750', '150', '850', '100', '1,200', '350', '250',\n",
       "       '950', '1,000', '1,500', '1,300', '199', '80', '1,100', '160',\n",
       "       '1,600', '230', '130', '50', '190', '1,700', nan, '1,400', '180',\n",
       "       '1,350', '2,200', '2,000', '1,800', '1,900', '330', '2,500',\n",
       "       '2,100', '3,000', '2,800', '3,400', '40', '1,250', '3,500',\n",
       "       '4,000', '2,400', '2,600', '120', '1,450', '469', '70', '3,200',\n",
       "       '60', '560', '240', '360', '6,000', '1,050', '2,300', '4,100',\n",
       "       '5,000', '3,700', '1,650', '2,700', '4,500', '140'], dtype=object)"
      ]
     },
     "execution_count": 9,
     "metadata": {},
     "output_type": "execute_result"
    }
   ],
   "source": [
    "df['approx_cost(for two people)'].unique()"
   ]
  },
  {
   "cell_type": "markdown",
   "id": "eae961d0",
   "metadata": {},
   "source": [
    "## As we can see there is ',' on the approx_cost(for two people), it actually indicates thousand for the price. But we can not use that ',' for our data, so we will need to eliminate that ','"
   ]
  },
  {
   "cell_type": "code",
   "execution_count": 10,
   "id": "aca26717",
   "metadata": {},
   "outputs": [],
   "source": [
    "df['approx_cost(for two people)'] = (df['approx_cost(for two people)'].str.replace(',','')).astype('float64')"
   ]
  },
  {
   "cell_type": "code",
   "execution_count": 11,
   "id": "e92c230b",
   "metadata": {},
   "outputs": [
    {
     "data": {
      "text/plain": [
       "array(['4.1/5', '3.8/5', '3.7/5', '3.6/5', '4.6/5', '4.0/5', '4.2/5',\n",
       "       '3.9/5', '3.1/5', '3.0/5', '3.2/5', '3.3/5', '2.8/5', '4.4/5',\n",
       "       '4.3/5', 'NEW', '2.9/5', '3.5/5', nan, '2.6/5', '3.8 /5', '3.4/5',\n",
       "       '4.5/5', '2.5/5', '2.7/5', '4.7/5', '2.4/5', '2.2/5', '2.3/5',\n",
       "       '3.4 /5', '-', '3.6 /5', '4.8/5', '3.9 /5', '4.2 /5', '4.0 /5',\n",
       "       '4.1 /5', '3.7 /5', '3.1 /5', '2.9 /5', '3.3 /5', '2.8 /5',\n",
       "       '3.5 /5', '2.7 /5', '2.5 /5', '3.2 /5', '2.6 /5', '4.5 /5',\n",
       "       '4.3 /5', '4.4 /5', '4.9/5', '2.1/5', '2.0/5', '1.8/5', '4.6 /5',\n",
       "       '4.9 /5', '3.0 /5', '4.8 /5', '2.3 /5', '4.7 /5', '2.4 /5',\n",
       "       '2.1 /5', '2.2 /5', '2.0 /5', '1.8 /5'], dtype=object)"
      ]
     },
     "execution_count": 11,
     "metadata": {},
     "output_type": "execute_result"
    }
   ],
   "source": [
    "df.rate.unique()"
   ]
  },
  {
   "cell_type": "markdown",
   "id": "a93f5ea6",
   "metadata": {},
   "source": [
    "## Rate values shown above shows that the range of rating of each restaurant from 0-5, for example 4.1/5 indicates the rating of a restaurant is 4.1 out of 5. But by using /5 inside our data, it will make our data messy. To make our data more clean we need to eliminate that /5 and leave the value before as the rating of a restaurant"
   ]
  },
  {
   "cell_type": "code",
   "execution_count": 17,
   "id": "ccc17252",
   "metadata": {},
   "outputs": [],
   "source": [
    "df['rate'] = df['rate'].replace('NEW',np.nan)\n",
    "df['rate'] = df['rate'].replace('-',np.nan)\n",
    "df['rate'] = (df['rate'].replace('/5','')).astype('float64')"
   ]
  },
  {
   "cell_type": "code",
   "execution_count": 18,
   "id": "3e01daf4",
   "metadata": {},
   "outputs": [
    {
     "data": {
      "text/html": [
       "<div>\n",
       "<style scoped>\n",
       "    .dataframe tbody tr th:only-of-type {\n",
       "        vertical-align: middle;\n",
       "    }\n",
       "\n",
       "    .dataframe tbody tr th {\n",
       "        vertical-align: top;\n",
       "    }\n",
       "\n",
       "    .dataframe thead th {\n",
       "        text-align: right;\n",
       "    }\n",
       "</style>\n",
       "<table border=\"1\" class=\"dataframe\">\n",
       "  <thead>\n",
       "    <tr style=\"text-align: right;\">\n",
       "      <th></th>\n",
       "      <th>rate</th>\n",
       "      <th>votes</th>\n",
       "      <th>approx_cost(for two people)</th>\n",
       "    </tr>\n",
       "  </thead>\n",
       "  <tbody>\n",
       "    <tr>\n",
       "      <th>count</th>\n",
       "      <td>41665.000000</td>\n",
       "      <td>51717.000000</td>\n",
       "      <td>51371.000000</td>\n",
       "    </tr>\n",
       "    <tr>\n",
       "      <th>mean</th>\n",
       "      <td>3.700449</td>\n",
       "      <td>283.697527</td>\n",
       "      <td>555.431566</td>\n",
       "    </tr>\n",
       "    <tr>\n",
       "      <th>std</th>\n",
       "      <td>0.440513</td>\n",
       "      <td>803.838853</td>\n",
       "      <td>438.850728</td>\n",
       "    </tr>\n",
       "    <tr>\n",
       "      <th>min</th>\n",
       "      <td>1.800000</td>\n",
       "      <td>0.000000</td>\n",
       "      <td>40.000000</td>\n",
       "    </tr>\n",
       "    <tr>\n",
       "      <th>25%</th>\n",
       "      <td>3.400000</td>\n",
       "      <td>7.000000</td>\n",
       "      <td>300.000000</td>\n",
       "    </tr>\n",
       "    <tr>\n",
       "      <th>50%</th>\n",
       "      <td>3.700000</td>\n",
       "      <td>41.000000</td>\n",
       "      <td>400.000000</td>\n",
       "    </tr>\n",
       "    <tr>\n",
       "      <th>75%</th>\n",
       "      <td>4.000000</td>\n",
       "      <td>198.000000</td>\n",
       "      <td>650.000000</td>\n",
       "    </tr>\n",
       "    <tr>\n",
       "      <th>max</th>\n",
       "      <td>4.900000</td>\n",
       "      <td>16832.000000</td>\n",
       "      <td>6000.000000</td>\n",
       "    </tr>\n",
       "  </tbody>\n",
       "</table>\n",
       "</div>"
      ],
      "text/plain": [
       "               rate         votes  approx_cost(for two people)\n",
       "count  41665.000000  51717.000000                 51371.000000\n",
       "mean       3.700449    283.697527                   555.431566\n",
       "std        0.440513    803.838853                   438.850728\n",
       "min        1.800000      0.000000                    40.000000\n",
       "25%        3.400000      7.000000                   300.000000\n",
       "50%        3.700000     41.000000                   400.000000\n",
       "75%        4.000000    198.000000                   650.000000\n",
       "max        4.900000  16832.000000                  6000.000000"
      ]
     },
     "execution_count": 18,
     "metadata": {},
     "output_type": "execute_result"
    }
   ],
   "source": [
    "df.describe()"
   ]
  },
  {
   "cell_type": "markdown",
   "id": "e5881553",
   "metadata": {},
   "source": [
    "## Duplicate Data Handling"
   ]
  },
  {
   "cell_type": "code",
   "execution_count": 19,
   "id": "9b747548",
   "metadata": {},
   "outputs": [
    {
     "data": {
      "text/plain": [
       "0"
      ]
     },
     "execution_count": 19,
     "metadata": {},
     "output_type": "execute_result"
    }
   ],
   "source": [
    "len(df[df.duplicated()])"
   ]
  },
  {
   "cell_type": "markdown",
   "id": "22a300ab",
   "metadata": {},
   "source": [
    "\n",
    "## With the code above, we know that there is no duplicate data inside our dataset, so we do not need to do anything about it"
   ]
  },
  {
   "cell_type": "code",
   "execution_count": 22,
   "id": "2fcacd1c",
   "metadata": {},
   "outputs": [
    {
     "data": {
      "text/plain": [
       "dish_liked                     28078\n",
       "rate                           10052\n",
       "phone                           1208\n",
       "approx_cost(for two people)      346\n",
       "rest_type                        227\n",
       "cuisines                          45\n",
       "location                          21\n",
       "listed_in(type)                    0\n",
       "menu_item                          0\n",
       "reviews_list                       0\n",
       "url                                0\n",
       "address                            0\n",
       "votes                              0\n",
       "book_table                         0\n",
       "online_order                       0\n",
       "name                               0\n",
       "listed_in(city)                    0\n",
       "dtype: int64"
      ]
     },
     "execution_count": 22,
     "metadata": {},
     "output_type": "execute_result"
    }
   ],
   "source": [
    "df.isnull().sum().sort_values(ascending = False)"
   ]
  },
  {
   "cell_type": "code",
   "execution_count": 23,
   "id": "bdb48818",
   "metadata": {},
   "outputs": [
    {
     "data": {
      "text/plain": [
       "dish_liked                     0.542916\n",
       "rate                           0.194365\n",
       "phone                          0.023358\n",
       "approx_cost(for two people)    0.006690\n",
       "rest_type                      0.004389\n",
       "cuisines                       0.000870\n",
       "location                       0.000406\n",
       "listed_in(type)                0.000000\n",
       "menu_item                      0.000000\n",
       "reviews_list                   0.000000\n",
       "url                            0.000000\n",
       "address                        0.000000\n",
       "votes                          0.000000\n",
       "book_table                     0.000000\n",
       "online_order                   0.000000\n",
       "name                           0.000000\n",
       "listed_in(city)                0.000000\n",
       "dtype: float64"
      ]
     },
     "execution_count": 23,
     "metadata": {},
     "output_type": "execute_result"
    }
   ],
   "source": [
    "(df.isnull().sum() / df.shape[0]).sort_values(ascending = False)"
   ]
  },
  {
   "cell_type": "markdown",
   "id": "be2601d4",
   "metadata": {},
   "source": [
    "\n",
    "## As we see from the percentage of missing values, 'dish_liked' has more than 50% missing values which can effect our dataset badly. We need to drop that data from our dataset to make our Data better. 'rate' that has around 19% of missing values, we will just fill that missing values with the median of the restaurant's rating. For columns that have missing values below 1% we will just drop it"
   ]
  },
  {
   "cell_type": "code",
   "execution_count": 24,
   "id": "1409a22d",
   "metadata": {},
   "outputs": [],
   "source": [
    "df.drop('dish_liked',axis = 1, inplace = True)"
   ]
  },
  {
   "cell_type": "code",
   "execution_count": 25,
   "id": "d60d7a91",
   "metadata": {},
   "outputs": [],
   "source": [
    "df.dropna(subset = ['cuisines', 'rest_type', 'approx_cost(for two people)'],inplace = True)"
   ]
  },
  {
   "cell_type": "code",
   "execution_count": 26,
   "id": "895212b8",
   "metadata": {},
   "outputs": [],
   "source": [
    "df.rate.fillna(df.rate.median(), inplace = True)"
   ]
  },
  {
   "cell_type": "code",
   "execution_count": 27,
   "id": "103ff2b2",
   "metadata": {},
   "outputs": [
    {
     "data": {
      "text/plain": [
       "phone                          0.01699\n",
       "url                            0.00000\n",
       "address                        0.00000\n",
       "name                           0.00000\n",
       "online_order                   0.00000\n",
       "book_table                     0.00000\n",
       "rate                           0.00000\n",
       "votes                          0.00000\n",
       "location                       0.00000\n",
       "rest_type                      0.00000\n",
       "cuisines                       0.00000\n",
       "approx_cost(for two people)    0.00000\n",
       "reviews_list                   0.00000\n",
       "menu_item                      0.00000\n",
       "listed_in(type)                0.00000\n",
       "listed_in(city)                0.00000\n",
       "dtype: float64"
      ]
     },
     "execution_count": 27,
     "metadata": {},
     "output_type": "execute_result"
    }
   ],
   "source": [
    "(df.isnull().sum() / df.shape[0]).sort_values(ascending = False)"
   ]
  },
  {
   "cell_type": "markdown",
   "id": "8a45f1e0",
   "metadata": {},
   "source": [
    "## Then, we can see that this dataset has column or data that we do not neet to use for analyzing this dataset and making a prediction using this dataset. That column or data are 'phone', 'url', 'address', 'name', 'reviews_list', and 'menu_item'. So we will just drop that data"
   ]
  },
  {
   "cell_type": "code",
   "execution_count": 28,
   "id": "3cf63102",
   "metadata": {},
   "outputs": [],
   "source": [
    "to_remove = ['url','address','name','phone','reviews_list','menu_item']\n",
    "\n",
    "df.drop(to_remove, axis = 1, inplace = True)"
   ]
  },
  {
   "cell_type": "code",
   "execution_count": 29,
   "id": "c49238a3",
   "metadata": {},
   "outputs": [
    {
     "data": {
      "text/plain": [
       "online_order                   0.0\n",
       "book_table                     0.0\n",
       "rate                           0.0\n",
       "votes                          0.0\n",
       "location                       0.0\n",
       "rest_type                      0.0\n",
       "cuisines                       0.0\n",
       "approx_cost(for two people)    0.0\n",
       "listed_in(type)                0.0\n",
       "listed_in(city)                0.0\n",
       "dtype: float64"
      ]
     },
     "execution_count": 29,
     "metadata": {},
     "output_type": "execute_result"
    }
   ],
   "source": [
    "(df.isnull().sum() / df.shape[0]).sort_values(ascending = False)"
   ]
  },
  {
   "cell_type": "code",
   "execution_count": 31,
   "id": "5c48b375",
   "metadata": {},
   "outputs": [
    {
     "name": "stdout",
     "output_type": "stream",
     "text": [
      "<class 'pandas.core.frame.DataFrame'>\n",
      "Int64Index: 51148 entries, 0 to 51716\n",
      "Data columns (total 10 columns):\n",
      " #   Column                       Non-Null Count  Dtype  \n",
      "---  ------                       --------------  -----  \n",
      " 0   online_order                 51148 non-null  object \n",
      " 1   book_table                   51148 non-null  object \n",
      " 2   rate                         51148 non-null  float64\n",
      " 3   votes                        51148 non-null  int64  \n",
      " 4   location                     51148 non-null  object \n",
      " 5   rest_type                    51148 non-null  object \n",
      " 6   cuisines                     51148 non-null  object \n",
      " 7   approx_cost(for two people)  51148 non-null  float64\n",
      " 8   listed_in(type)              51148 non-null  object \n",
      " 9   listed_in(city)              51148 non-null  object \n",
      "dtypes: float64(2), int64(1), object(7)\n",
      "memory usage: 4.3+ MB\n"
     ]
    }
   ],
   "source": [
    "df.info()\n"
   ]
  },
  {
   "cell_type": "markdown",
   "id": "6dbf96bc",
   "metadata": {},
   "source": [
    "## Now on, we obtained clean dataset from what we have already done before"
   ]
  },
  {
   "cell_type": "markdown",
   "id": "7add8805",
   "metadata": {},
   "source": [
    "# Data Manipulation\n",
    "## To make our dataset even better, we then manipulate our data"
   ]
  },
  {
   "cell_type": "markdown",
   "id": "df5e4ccc",
   "metadata": {},
   "source": [
    "## Feature Engineering"
   ]
  },
  {
   "cell_type": "code",
   "execution_count": 32,
   "id": "fd51c0de",
   "metadata": {},
   "outputs": [],
   "source": [
    "df['numoftype'] = df.rest_type.str.count(',') + 1\n",
    "df['numofcuisines'] = df.cuisines.str.count(',') + 1"
   ]
  },
  {
   "cell_type": "code",
   "execution_count": 33,
   "id": "c850af3d",
   "metadata": {},
   "outputs": [],
   "source": [
    "df['numoftype'].fillna(1,inplace = True)\n",
    "df['numofcuisines'].fillna(1,inplace = True)"
   ]
  },
  {
   "cell_type": "code",
   "execution_count": 34,
   "id": "9a7ce17c",
   "metadata": {},
   "outputs": [],
   "source": [
    "tresh = df.rate.median()"
   ]
  },
  {
   "cell_type": "markdown",
   "id": "e6d8032e",
   "metadata": {},
   "source": [
    "## For determining whether a restaurant is a successful restaurant or not, we use the median of restaurant rates as our threshold. If a restaurant has rating more than the threshold, we will consider that restaurant is a successfull restaurant"
   ]
  },
  {
   "cell_type": "markdown",
   "id": "6639f8ec",
   "metadata": {},
   "source": [
    "## Build the target from rate\n",
    "# we have tried to use 3 as our treshold but the target output is imbalanced so we use 3.5/3.6 as our treshold\n"
   ]
  },
  {
   "cell_type": "code",
   "execution_count": 35,
   "id": "0001eb8c",
   "metadata": {},
   "outputs": [],
   "source": [
    "df['success'] = 0\n",
    "df.loc[df['rate'] >= tresh, 'success'] = 1"
   ]
  },
  {
   "cell_type": "markdown",
   "id": "7b5ce102",
   "metadata": {},
   "source": [
    "## For the data that are considered as categorical type, we will encode it because when we want to analyze the data and making a prediction using this dataset. We can not use string data type to be used as a input of the model, so the data that has categorical value will be encoded."
   ]
  },
  {
   "cell_type": "code",
   "execution_count": 36,
   "id": "007c1844",
   "metadata": {},
   "outputs": [],
   "source": [
    "to_encode = ['online_order','book_table','listed_in(type)','listed_in(city)']\n",
    "encoder = LabelEncoder()\n",
    "df[to_encode] = df[to_encode].apply(encoder.fit_transform)"
   ]
  },
  {
   "cell_type": "markdown",
   "id": "ed1efdd7",
   "metadata": {},
   "source": [
    "# Final Dataset"
   ]
  },
  {
   "cell_type": "code",
   "execution_count": 37,
   "id": "5fda08da",
   "metadata": {},
   "outputs": [
    {
     "data": {
      "text/html": [
       "<div>\n",
       "<style scoped>\n",
       "    .dataframe tbody tr th:only-of-type {\n",
       "        vertical-align: middle;\n",
       "    }\n",
       "\n",
       "    .dataframe tbody tr th {\n",
       "        vertical-align: top;\n",
       "    }\n",
       "\n",
       "    .dataframe thead th {\n",
       "        text-align: right;\n",
       "    }\n",
       "</style>\n",
       "<table border=\"1\" class=\"dataframe\">\n",
       "  <thead>\n",
       "    <tr style=\"text-align: right;\">\n",
       "      <th></th>\n",
       "      <th>online_order</th>\n",
       "      <th>book_table</th>\n",
       "      <th>rate</th>\n",
       "      <th>votes</th>\n",
       "      <th>location</th>\n",
       "      <th>rest_type</th>\n",
       "      <th>cuisines</th>\n",
       "      <th>approx_cost(for two people)</th>\n",
       "      <th>listed_in(type)</th>\n",
       "      <th>listed_in(city)</th>\n",
       "      <th>numoftype</th>\n",
       "      <th>numofcuisines</th>\n",
       "      <th>success</th>\n",
       "    </tr>\n",
       "  </thead>\n",
       "  <tbody>\n",
       "    <tr>\n",
       "      <th>0</th>\n",
       "      <td>1</td>\n",
       "      <td>1</td>\n",
       "      <td>4.1</td>\n",
       "      <td>775</td>\n",
       "      <td>Banashankari</td>\n",
       "      <td>Casual Dining</td>\n",
       "      <td>North Indian, Mughlai, Chinese</td>\n",
       "      <td>800.0</td>\n",
       "      <td>0</td>\n",
       "      <td>1</td>\n",
       "      <td>1</td>\n",
       "      <td>3</td>\n",
       "      <td>1</td>\n",
       "    </tr>\n",
       "    <tr>\n",
       "      <th>1</th>\n",
       "      <td>1</td>\n",
       "      <td>0</td>\n",
       "      <td>4.1</td>\n",
       "      <td>787</td>\n",
       "      <td>Banashankari</td>\n",
       "      <td>Casual Dining</td>\n",
       "      <td>Chinese, North Indian, Thai</td>\n",
       "      <td>800.0</td>\n",
       "      <td>0</td>\n",
       "      <td>1</td>\n",
       "      <td>1</td>\n",
       "      <td>3</td>\n",
       "      <td>1</td>\n",
       "    </tr>\n",
       "    <tr>\n",
       "      <th>2</th>\n",
       "      <td>1</td>\n",
       "      <td>0</td>\n",
       "      <td>3.8</td>\n",
       "      <td>918</td>\n",
       "      <td>Banashankari</td>\n",
       "      <td>Cafe, Casual Dining</td>\n",
       "      <td>Cafe, Mexican, Italian</td>\n",
       "      <td>800.0</td>\n",
       "      <td>0</td>\n",
       "      <td>1</td>\n",
       "      <td>2</td>\n",
       "      <td>3</td>\n",
       "      <td>1</td>\n",
       "    </tr>\n",
       "    <tr>\n",
       "      <th>3</th>\n",
       "      <td>0</td>\n",
       "      <td>0</td>\n",
       "      <td>3.7</td>\n",
       "      <td>88</td>\n",
       "      <td>Banashankari</td>\n",
       "      <td>Quick Bites</td>\n",
       "      <td>South Indian, North Indian</td>\n",
       "      <td>300.0</td>\n",
       "      <td>0</td>\n",
       "      <td>1</td>\n",
       "      <td>1</td>\n",
       "      <td>2</td>\n",
       "      <td>1</td>\n",
       "    </tr>\n",
       "    <tr>\n",
       "      <th>4</th>\n",
       "      <td>0</td>\n",
       "      <td>0</td>\n",
       "      <td>3.8</td>\n",
       "      <td>166</td>\n",
       "      <td>Basavanagudi</td>\n",
       "      <td>Casual Dining</td>\n",
       "      <td>North Indian, Rajasthani</td>\n",
       "      <td>600.0</td>\n",
       "      <td>0</td>\n",
       "      <td>1</td>\n",
       "      <td>1</td>\n",
       "      <td>2</td>\n",
       "      <td>1</td>\n",
       "    </tr>\n",
       "  </tbody>\n",
       "</table>\n",
       "</div>"
      ],
      "text/plain": [
       "   online_order  book_table  rate  votes      location            rest_type  \\\n",
       "0             1           1   4.1    775  Banashankari        Casual Dining   \n",
       "1             1           0   4.1    787  Banashankari        Casual Dining   \n",
       "2             1           0   3.8    918  Banashankari  Cafe, Casual Dining   \n",
       "3             0           0   3.7     88  Banashankari          Quick Bites   \n",
       "4             0           0   3.8    166  Basavanagudi        Casual Dining   \n",
       "\n",
       "                         cuisines  approx_cost(for two people)  \\\n",
       "0  North Indian, Mughlai, Chinese                        800.0   \n",
       "1     Chinese, North Indian, Thai                        800.0   \n",
       "2          Cafe, Mexican, Italian                        800.0   \n",
       "3      South Indian, North Indian                        300.0   \n",
       "4        North Indian, Rajasthani                        600.0   \n",
       "\n",
       "   listed_in(type)  listed_in(city)  numoftype  numofcuisines  success  \n",
       "0                0                1          1              3        1  \n",
       "1                0                1          1              3        1  \n",
       "2                0                1          2              3        1  \n",
       "3                0                1          1              2        1  \n",
       "4                0                1          1              2        1  "
      ]
     },
     "execution_count": 37,
     "metadata": {},
     "output_type": "execute_result"
    }
   ],
   "source": [
    "df.head()"
   ]
  },
  {
   "cell_type": "markdown",
   "id": "1e91c10d",
   "metadata": {},
   "source": [
    "## Prediction"
   ]
  },
  {
   "cell_type": "markdown",
   "id": "8860758c",
   "metadata": {},
   "source": [
    "## Feature Selection"
   ]
  },
  {
   "cell_type": "code",
   "execution_count": 38,
   "id": "0d0df5ee",
   "metadata": {},
   "outputs": [
    {
     "data": {
      "text/plain": [
       "success                        1.000000\n",
       "rate                           0.754530\n",
       "book_table                     0.240257\n",
       "approx_cost(for two people)    0.205851\n",
       "votes                          0.203685\n",
       "numofcuisines                  0.097806\n",
       "numoftype                      0.088385\n",
       "listed_in(type)                0.013352\n",
       "online_order                   0.009843\n",
       "listed_in(city)                0.001149\n",
       "Name: success, dtype: float64"
      ]
     },
     "execution_count": 38,
     "metadata": {},
     "output_type": "execute_result"
    }
   ],
   "source": [
    "df.corr()['success'].abs().sort_values(ascending = False)"
   ]
  },
  {
   "cell_type": "markdown",
   "id": "01c09918",
   "metadata": {},
   "source": [
    "## Later on, the features that we will use for making prediction using our model are 'book_table', 'approx_cost(for two people)', 'votes', 'numberofcuisines', and 'numoftype'.     We do not use data after 'numoftype' as we considered it to be too low. The correllation between 'success' and 'rate' are too high, so we do not use it as our feature as it will affect our prediction negatively"
   ]
  },
  {
   "cell_type": "code",
   "execution_count": 39,
   "id": "fccf72b9",
   "metadata": {},
   "outputs": [],
   "source": [
    "feature = ['book_table', 'approx_cost(for two people)', 'votes', 'numofcuisines','numoftype']"
   ]
  },
  {
   "cell_type": "code",
   "execution_count": 40,
   "id": "8453d994",
   "metadata": {},
   "outputs": [],
   "source": [
    "x = df[feature]\n",
    "y = df['success']"
   ]
  },
  {
   "cell_type": "code",
   "execution_count": 41,
   "id": "a0d3ff08",
   "metadata": {},
   "outputs": [
    {
     "data": {
      "text/plain": [
       "book_table                     0\n",
       "approx_cost(for two people)    0\n",
       "votes                          0\n",
       "numofcuisines                  0\n",
       "numoftype                      0\n",
       "dtype: int64"
      ]
     },
     "execution_count": 41,
     "metadata": {},
     "output_type": "execute_result"
    }
   ],
   "source": [
    "x.isnull().sum()"
   ]
  },
  {
   "cell_type": "markdown",
   "id": "fb44f1ad",
   "metadata": {},
   "source": [
    "# Gaining Insights\n",
    "\n",
    "## To start the Gaining Insights section, to make sure we get to the root of the source of a successfull restaurant seeing from the Rate we will start with the first Question which is 'What makes a restaurant has a good rating?'¶\n",
    "\n",
    "## Now, this graph of feature importance show us that votes are so influential in getting good Rate, but we will still dig in to the data to see whether the feature importance graph is true or not\n"
   ]
  },
  {
   "cell_type": "code",
   "execution_count": 42,
   "id": "0d8602a7",
   "metadata": {},
   "outputs": [
    {
     "data": {
      "text/plain": [
       "<AxesSubplot:ylabel='Frequency'>"
      ]
     },
     "execution_count": 42,
     "metadata": {},
     "output_type": "execute_result"
    },
    {
     "data": {
      "image/png": "[encoded data removed]",
      "text/plain": [
       "<Figure size 432x288 with 1 Axes>"
      ]
     },
     "metadata": {
      "needs_background": "light"
     },
     "output_type": "display_data"
    }
   ],
   "source": [
    "df['rate'].plot(kind='hist')"
   ]
  },
  {
   "cell_type": "code",
   "execution_count": 44,
   "id": "3511134a",
   "metadata": {},
   "outputs": [
    {
     "data": {
      "image/png": "[encoded data removed]",
      "text/plain": [
       "<Figure size 1440x720 with 1 Axes>"
      ]
     },
     "metadata": {
      "needs_background": "light"
     },
     "output_type": "display_data"
    }
   ],
   "source": [
    "df.groupby(['rate'])[['votes']].mean().plot(kind='barh', figsize=(20,10))\n",
    "plt.title('Rates of Restaurant based on Votes')\n",
    "plt.xlabel('Votes')\n",
    "plt.ylabel('Rates')\n",
    "plt.show()"
   ]
  },
  {
   "cell_type": "code",
   "execution_count": 45,
   "id": "df7e52dc",
   "metadata": {},
   "outputs": [
    {
     "data": {
      "image/png": "[encoded data removed]",
      "text/plain": [
       "<Figure size 1440x720 with 1 Axes>"
      ]
     },
     "metadata": {
      "needs_background": "light"
     },
     "output_type": "display_data"
    }
   ],
   "source": [
    "df.groupby(['rate'])[['numoftype']].mean().plot(kind='barh', figsize=(20,10))\n",
    "plt.title('Rates of Restaurant based on Types')\n",
    "plt.xlabel('Type')\n",
    "plt.ylabel('Rates')\n",
    "plt.show() "
   ]
  },
  {
   "cell_type": "code",
   "execution_count": 46,
   "id": "2470facd",
   "metadata": {},
   "outputs": [
    {
     "data": {
      "image/png": "[encoded data removed]",
      "text/plain": [
       "<Figure size 1440x720 with 1 Axes>"
      ]
     },
     "metadata": {
      "needs_background": "light"
     },
     "output_type": "display_data"
    }
   ],
   "source": [
    "df.groupby(['rate'])[['numofcuisines']].mean().plot(kind='barh', figsize=(20,10))\n",
    "plt.title('Rates of Restaurant based on Number of Cuisines')\n",
    "plt.xlabel('Number of Cuisines')\n",
    "plt.ylabel('Rates')\n",
    "plt.show()"
   ]
  },
  {
   "cell_type": "code",
   "execution_count": 47,
   "id": "e5376a3c",
   "metadata": {},
   "outputs": [
    {
     "data": {
      "image/png": "[encoded data removed]",
      "text/plain": [
       "<Figure size 1440x720 with 1 Axes>"
      ]
     },
     "metadata": {
      "needs_background": "light"
     },
     "output_type": "display_data"
    }
   ],
   "source": [
    "df.groupby(['listed_in(city)'])[['rate']].mean().plot(kind='bar', figsize=(20,10))\n",
    "plt.title('Rates of Restaurant based on Listed in CIties')\n",
    "plt.xlabel('Listed in City')\n",
    "plt.ylabel('Rates')\n",
    "plt.show()"
   ]
  },
  {
   "cell_type": "code",
   "execution_count": 49,
   "id": "06529593",
   "metadata": {},
   "outputs": [
    {
     "data": {
      "image/png": "[encoded data removed]",
      "text/plain": [
       "<Figure size 432x288 with 1 Axes>"
      ]
     },
     "metadata": {
      "needs_background": "light"
     },
     "output_type": "display_data"
    }
   ],
   "source": [
    "plt.hist(df['rate'].unique(), weights = df.groupby(['rate'])[['approx_cost(for two people)']].mean().values, bins = 10)\n",
    "plt.title('Rates of Restaurant based on Cost for two people')\n",
    "plt.xlabel('Rates')\n",
    "plt.ylabel('Cost')\n",
    "plt.show()"
   ]
  },
  {
   "cell_type": "markdown",
   "id": "83338ad5",
   "metadata": {},
   "source": [
    "## As we see from the graphs above, we can conclude that it is true that what affect Rate the most is Votes. We can see it from graphs other than relationship between Votes and Rate, the graph have no huge different from each of the Rate. Even though there is some that have a huge different but it do not tells us it has huge impact for the Rate\n",
    "\n"
   ]
  },
  {
   "cell_type": "markdown",
   "id": "a6477091",
   "metadata": {},
   "source": [
    "## It brings us to the 2nd question, which is 'What makes a restaurant obtain a huge amount of votes?'\n"
   ]
  },
  {
   "cell_type": "code",
   "execution_count": 50,
   "id": "22e10996",
   "metadata": {},
   "outputs": [
    {
     "data": {
      "image/png": "[encoded data removed]",
      "text/plain": [
       "<Figure size 720x360 with 1 Axes>"
      ]
     },
     "metadata": {
      "needs_background": "light"
     },
     "output_type": "display_data"
    }
   ],
   "source": [
    "df.groupby(['online_order'])[['votes']].mean().plot(kind='barh', figsize=(10,5))\n",
    "plt.title('Votes based on Online Order Availability')\n",
    "plt.xlabel('Votes')\n",
    "plt.ylabel('Online Order')\n",
    "plt.show()"
   ]
  },
  {
   "cell_type": "code",
   "execution_count": 51,
   "id": "de8b2beb",
   "metadata": {},
   "outputs": [
    {
     "data": {
      "image/png": "[encoded data removed]",
      "text/plain": [
       "<Figure size 720x360 with 1 Axes>"
      ]
     },
     "metadata": {
      "needs_background": "light"
     },
     "output_type": "display_data"
    }
   ],
   "source": [
    "df.groupby(['book_table'])[['votes']].mean().plot(kind='barh', figsize=(10,5))\n",
    "plt.title('Votes based on Book Table Availability')\n",
    "plt.xlabel('Votes')\n",
    "plt.ylabel('Book Table Availability')\n",
    "plt.show()"
   ]
  },
  {
   "cell_type": "code",
   "execution_count": 52,
   "id": "61bd6af7",
   "metadata": {},
   "outputs": [
    {
     "data": {
      "image/png": "[encoded data removed]",
      "text/plain": [
       "<Figure size 720x360 with 1 Axes>"
      ]
     },
     "metadata": {
      "needs_background": "light"
     },
     "output_type": "display_data"
    }
   ],
   "source": [
    "df.groupby(['numofcuisines'])[['votes']].mean().plot(kind='barh', figsize=(10,5))\n",
    "plt.title('Votes based on Number of Cuisines')\n",
    "plt.xlabel('Votes')\n",
    "plt.ylabel('Number of Cuisines')\n",
    "plt.show() "
   ]
  },
  {
   "cell_type": "code",
   "execution_count": 53,
   "id": "4419343c",
   "metadata": {},
   "outputs": [
    {
     "data": {
      "image/png": "[encoded data removed]",
      "text/plain": [
       "<Figure size 720x360 with 1 Axes>"
      ]
     },
     "metadata": {
      "needs_background": "light"
     },
     "output_type": "display_data"
    }
   ],
   "source": [
    "df.groupby(['numoftype'])[['votes']].mean().plot(kind='barh', figsize=(10,5))\n",
    "plt.title('Votes based on Number of Types')\n",
    "plt.xlabel('Votes')\n",
    "plt.ylabel('Type')\n",
    "plt.show()"
   ]
  },
  {
   "cell_type": "code",
   "execution_count": 54,
   "id": "22dc5440",
   "metadata": {},
   "outputs": [
    {
     "data": {
      "image/png": "[encoded data removed]",
      "text/plain": [
       "<Figure size 432x288 with 1 Axes>"
      ]
     },
     "metadata": {
      "needs_background": "light"
     },
     "output_type": "display_data"
    }
   ],
   "source": [
    "plt.hist(x = df['approx_cost(for two people)'].unique(), weights = df.groupby(['approx_cost(for two people)'])[['votes']].mean().values, bins = 6)\n",
    "plt.title('Votes based on Price for Two People')\n",
    "plt.xlabel('Price')\n",
    "plt.ylabel('Votes')\n",
    "plt.show()"
   ]
  },
  {
   "cell_type": "markdown",
   "id": "89c350e4",
   "metadata": {},
   "source": [
    "## From the graphs above we can obtain a conclusion of what affect a huge amount of Votes are the Availability to Book Table, Number Types, and The Approx Cost for Two People\n"
   ]
  },
  {
   "cell_type": "code",
   "execution_count": 55,
   "id": "748882e0",
   "metadata": {},
   "outputs": [
    {
     "name": "stderr",
     "output_type": "stream",
     "text": [
      "C:\\Users\\bhaku\\anaconda\\lib\\site-packages\\seaborn\\_decorators.py:36: FutureWarning: Pass the following variable as a keyword arg: x. From version 0.12, the only valid positional argument will be `data`, and passing other arguments without an explicit keyword will result in an error or misinterpretation.\n",
      "  warnings.warn(\n"
     ]
    },
    {
     "data": {
      "text/plain": [
       "<AxesSubplot:xlabel='book_table', ylabel='count'>"
      ]
     },
     "execution_count": 55,
     "metadata": {},
     "output_type": "execute_result"
    },
    {
     "data": {
      "image/png": "[encoded data removed]",
      "text/plain": [
       "<Figure size 432x288 with 1 Axes>"
      ]
     },
     "metadata": {
      "needs_background": "light"
     },
     "output_type": "display_data"
    }
   ],
   "source": [
    "sns.countplot(df.book_table)"
   ]
  },
  {
   "cell_type": "code",
   "execution_count": 56,
   "id": "207be5bd",
   "metadata": {},
   "outputs": [
    {
     "data": {
      "text/plain": [
       "0    0.873915\n",
       "1    0.126085\n",
       "Name: book_table, dtype: float64"
      ]
     },
     "execution_count": 56,
     "metadata": {},
     "output_type": "execute_result"
    }
   ],
   "source": [
    "df.book_table.value_counts(normalize = True)"
   ]
  },
  {
   "cell_type": "code",
   "execution_count": 57,
   "id": "2a11d7bc",
   "metadata": {},
   "outputs": [
    {
     "name": "stderr",
     "output_type": "stream",
     "text": [
      "C:\\Users\\bhaku\\anaconda\\lib\\site-packages\\seaborn\\_decorators.py:36: FutureWarning: Pass the following variable as a keyword arg: x. From version 0.12, the only valid positional argument will be `data`, and passing other arguments without an explicit keyword will result in an error or misinterpretation.\n",
      "  warnings.warn(\n"
     ]
    },
    {
     "data": {
      "text/plain": [
       "<AxesSubplot:xlabel='online_order', ylabel='count'>"
      ]
     },
     "execution_count": 57,
     "metadata": {},
     "output_type": "execute_result"
    },
    {
     "data": {
      "image/png": "[encoded data removed]",
      "text/plain": [
       "<Figure size 432x288 with 1 Axes>"
      ]
     },
     "metadata": {
      "needs_background": "light"
     },
     "output_type": "display_data"
    }
   ],
   "source": [
    "sns.countplot(df.online_order)"
   ]
  },
  {
   "cell_type": "code",
   "execution_count": 58,
   "id": "13ff4762",
   "metadata": {},
   "outputs": [
    {
     "data": {
      "text/plain": [
       "1    0.592614\n",
       "0    0.407386\n",
       "Name: online_order, dtype: float64"
      ]
     },
     "execution_count": 58,
     "metadata": {},
     "output_type": "execute_result"
    }
   ],
   "source": [
    "df.online_order.value_counts(normalize = True)"
   ]
  },
  {
   "cell_type": "code",
   "execution_count": 59,
   "id": "97091ff0",
   "metadata": {},
   "outputs": [
    {
     "data": {
      "text/plain": [
       "<AxesSubplot:xlabel='count', ylabel='listed_in(city)'>"
      ]
     },
     "execution_count": 59,
     "metadata": {},
     "output_type": "execute_result"
    },
    {
     "data": {
      "image/png": "[encoded data removed]",
      "text/plain": [
       "<Figure size 1440x648 with 1 Axes>"
      ]
     },
     "metadata": {},
     "output_type": "display_data"
    }
   ],
   "source": [
    "sns.set(rc={'figure.figsize':(20,9)})\n",
    "sns.countplot(y = df['listed_in(city)'])"
   ]
  },
  {
   "cell_type": "code",
   "execution_count": 60,
   "id": "7c260466",
   "metadata": {},
   "outputs": [
    {
     "name": "stderr",
     "output_type": "stream",
     "text": [
      "C:\\Users\\bhaku\\anaconda\\lib\\site-packages\\seaborn\\_decorators.py:36: FutureWarning: Pass the following variable as a keyword arg: x. From version 0.12, the only valid positional argument will be `data`, and passing other arguments without an explicit keyword will result in an error or misinterpretation.\n",
      "  warnings.warn(\n"
     ]
    },
    {
     "data": {
      "text/plain": [
       "<AxesSubplot:xlabel='listed_in(type)', ylabel='count'>"
      ]
     },
     "execution_count": 60,
     "metadata": {},
     "output_type": "execute_result"
    },
    {
     "data": {
      "image/png": "[encoded data removed]",
      "text/plain": [
       "<Figure size 792x432 with 1 Axes>"
      ]
     },
     "metadata": {},
     "output_type": "display_data"
    }
   ],
   "source": [
    "sns.set(rc={'figure.figsize':(11,6)})\n",
    "sns.countplot(df['listed_in(type)'])"
   ]
  },
  {
   "cell_type": "markdown",
   "id": "2555b4a8",
   "metadata": {},
   "source": [
    "## Single Variable Z-test"
   ]
  },
  {
   "cell_type": "code",
   "execution_count": 61,
   "id": "e9ad4143",
   "metadata": {},
   "outputs": [
    {
     "name": "stdout",
     "output_type": "stream",
     "text": [
      "<class 'pandas.core.frame.DataFrame'>\n",
      "Int64Index: 51148 entries, 0 to 51716\n",
      "Data columns (total 13 columns):\n",
      " #   Column                       Non-Null Count  Dtype  \n",
      "---  ------                       --------------  -----  \n",
      " 0   online_order                 51148 non-null  int32  \n",
      " 1   book_table                   51148 non-null  int32  \n",
      " 2   rate                         51148 non-null  float64\n",
      " 3   votes                        51148 non-null  int64  \n",
      " 4   location                     51148 non-null  object \n",
      " 5   rest_type                    51148 non-null  object \n",
      " 6   cuisines                     51148 non-null  object \n",
      " 7   approx_cost(for two people)  51148 non-null  float64\n",
      " 8   listed_in(type)              51148 non-null  int32  \n",
      " 9   listed_in(city)              51148 non-null  int32  \n",
      " 10  numoftype                    51148 non-null  int64  \n",
      " 11  numofcuisines                51148 non-null  int64  \n",
      " 12  success                      51148 non-null  int64  \n",
      "dtypes: float64(2), int32(4), int64(4), object(3)\n",
      "memory usage: 6.7+ MB\n"
     ]
    }
   ],
   "source": [
    "a=df['approx_cost(for two people)']\n",
    "a.head()\n",
    "df.info()"
   ]
  },
  {
   "cell_type": "code",
   "execution_count": 62,
   "id": "32b3ec93",
   "metadata": {},
   "outputs": [
    {
     "name": "stdout",
     "output_type": "stream",
     "text": [
      "[950.0, 750.0, 500.0, 500.0, 700.0, 150.0, 200.0, 400.0, 700.0, 400.0, 400.0, 300.0, 1800.0, 800.0, 300.0, 250.0, 400.0, 400.0, 400.0, 300.0, 100.0, 400.0, 1400.0, 400.0, 200.0, 500.0, 250.0, 1600.0, 350.0, 400.0, 700.0, 300.0, 200.0, 550.0, 1200.0, 800.0, 1000.0, 200.0, 1400.0, 400.0, 1200.0, 300.0, 400.0, 500.0, 1200.0, 500.0, 300.0, 400.0, 200.0, 1000.0, 1500.0, 600.0, 2100.0, 200.0, 300.0, 600.0, 1000.0, 500.0, 500.0, 400.0, 250.0, 600.0, 400.0, 300.0, 500.0, 400.0, 600.0, 300.0, 250.0, 1600.0, 300.0, 200.0, 500.0, 450.0, 750.0, 600.0, 400.0, 3000.0, 800.0, 800.0, 700.0, 400.0, 350.0, 1000.0, 300.0, 300.0, 300.0, 300.0, 800.0, 500.0, 200.0, 400.0, 1100.0, 1700.0, 500.0, 600.0, 900.0, 400.0, 1800.0, 800.0, 800.0, 1300.0, 300.0, 650.0, 1400.0, 600.0, 800.0, 300.0, 100.0, 1300.0, 550.0, 800.0, 200.0, 100.0, 350.0, 500.0, 400.0, 400.0, 600.0, 1200.0, 550.0, 850.0, 800.0, 300.0, 650.0, 600.0, 350.0, 1000.0, 600.0, 300.0, 650.0, 800.0, 500.0, 500.0, 300.0, 200.0, 300.0, 300.0, 450.0, 150.0, 250.0, 400.0, 300.0, 600.0, 300.0, 650.0, 450.0, 400.0, 400.0, 500.0, 800.0, 600.0, 700.0, 650.0, 500.0, 500.0, 300.0, 400.0, 200.0, 300.0, 600.0, 300.0, 800.0, 300.0, 150.0, 300.0, 1200.0, 250.0, 400.0, 400.0, 700.0, 300.0, 700.0, 650.0, 450.0, 250.0, 400.0, 600.0, 350.0, 500.0, 400.0, 400.0, 350.0, 300.0, 800.0, 200.0, 1200.0, 600.0, 300.0, 250.0, 1000.0, 350.0, 200.0, 2000.0, 400.0, 650.0, 500.0, 350.0, 800.0, 1000.0, 200.0, 350.0, 500.0, 150.0, 200.0, 250.0, 800.0, 500.0, 750.0, 200.0, 600.0, 300.0, 700.0, 850.0, 200.0, 550.0, 300.0, 1500.0, 1500.0, 1400.0, 250.0, 200.0, 1500.0, 400.0, 500.0, 600.0, 250.0, 800.0, 200.0, 500.0, 700.0, 300.0, 600.0, 200.0, 500.0, 700.0, 400.0, 600.0, 500.0, 300.0, 300.0, 200.0, 1100.0, 400.0, 400.0, 350.0, 800.0, 600.0, 350.0, 600.0, 1000.0, 700.0, 150.0, 400.0, 850.0, 300.0, 100.0, 150.0, 500.0, 400.0, 300.0, 400.0, 900.0, 2500.0, 300.0, 500.0, 200.0, 450.0, 2000.0, 300.0, 300.0, 200.0, 900.0, 500.0, 300.0, 650.0, 500.0, 1000.0, 300.0, 450.0, 550.0, 450.0, 300.0, 300.0, 400.0, 1500.0, 400.0, 100.0, 1700.0, 800.0, 450.0, 300.0, 900.0, 200.0, 600.0, 350.0, 400.0, 500.0, 600.0, 450.0, 300.0, 300.0, 600.0, 300.0, 500.0, 800.0, 500.0, 750.0, 500.0, 250.0, 300.0, 150.0, 250.0, 400.0, 1200.0, 450.0, 900.0, 900.0, 400.0, 400.0, 1200.0, 600.0, 400.0, 400.0, 600.0, 350.0, 300.0, 200.0, 300.0, 400.0, 400.0, 400.0, 450.0, 500.0, 400.0, 750.0, 250.0, 1200.0, 150.0, 150.0, 300.0, 1000.0, 500.0, 500.0, 200.0, 500.0, 600.0, 300.0, 800.0, 250.0, 350.0, 250.0, 500.0, 900.0, 450.0, 600.0, 300.0, 150.0, 1200.0, 300.0, 300.0, 250.0, 150.0, 650.0, 300.0, 500.0, 450.0, 900.0, 750.0, 600.0, 200.0, 900.0, 400.0, 500.0, 1000.0, 900.0, 600.0, 1500.0, 200.0, 400.0, 300.0, 400.0, 150.0, 600.0, 200.0, 600.0, 1000.0, 400.0, 250.0, 400.0, 800.0, 700.0, 700.0, 900.0, 500.0, 550.0, 600.0, 400.0, 800.0, 300.0, 1200.0, 250.0, 200.0, 800.0, 3000.0, 200.0, 700.0, 400.0, 1600.0, 900.0, 900.0, 1200.0, 700.0, 200.0, 600.0, 250.0, 1200.0, 850.0, 300.0, 500.0, 500.0, 300.0, 1000.0, 500.0, 550.0, 150.0, 900.0, 400.0, 300.0, 900.0, 200.0, 400.0, 550.0, 700.0, 1000.0, 650.0, 750.0, 500.0, 450.0, 1600.0, 800.0, 300.0, 550.0, 100.0, 700.0, 500.0, 400.0, 800.0, 300.0, 500.0, 300.0, 300.0, 250.0, 600.0, 600.0, 700.0, 600.0, 800.0, 300.0, 400.0, 250.0, 2500.0, 300.0, 1400.0, 400.0, 300.0, 1200.0, 1500.0, 900.0, 150.0, 600.0, 300.0, 1500.0, 500.0, 100.0, 600.0, 350.0, 800.0, 500.0, 400.0, 600.0, 800.0, 600.0, 400.0, 1000.0, 800.0, 500.0, 150.0, 500.0, 550.0, 750.0, 950.0, 1500.0, 200.0, 300.0, 1200.0, 700.0, 600.0, 450.0, 1000.0, 250.0, 500.0, 300.0, 400.0, 400.0, 700.0, 700.0, 450.0, 200.0, 600.0, 200.0, 800.0, 400.0, 300.0, 500.0, 150.0, 400.0, 500.0, 400.0, 400.0, 450.0, 150.0, 200.0, 600.0, 700.0, 700.0, 200.0, 300.0, 250.0, 500.0, 1200.0, 300.0, 400.0, 350.0, 250.0, 500.0, 700.0, 300.0, 450.0, 300.0, 750.0, 400.0, 800.0, 1000.0, 500.0, 150.0, 500.0, 1000.0, 250.0, 200.0, 250.0, 400.0, 350.0, 450.0, 2000.0, 600.0, 200.0, 650.0, 400.0, 700.0, 200.0, 1500.0, 200.0, 400.0, 350.0, 300.0, 600.0, 550.0, 500.0, 200.0, 200.0, 500.0, 450.0, 600.0, 600.0, 700.0, 400.0, 200.0, 400.0, 800.0, 1500.0, 300.0, 650.0, 200.0, 2500.0, 550.0, 400.0, 800.0, 200.0, 1000.0, 200.0, 1500.0, 400.0, 500.0, 300.0, 400.0, 150.0, 700.0, 300.0, 600.0, 900.0, 200.0, 700.0, 400.0, 400.0, 600.0, 350.0, 400.0, 400.0, 500.0, 800.0, 1200.0, 300.0, 600.0, 1200.0, 700.0, 200.0, 200.0, 500.0, 350.0, 600.0, 350.0, 600.0, 300.0, 200.0, 1400.0, 800.0, 150.0, 200.0, 250.0, 300.0, 200.0, 750.0, 300.0, 800.0, 600.0, 1000.0, 500.0, 500.0, 250.0, 100.0, 400.0, 1100.0, 600.0, 1500.0, 1500.0, 200.0, 1300.0, 750.0, 300.0, 400.0, 150.0, 1100.0, 600.0, 400.0, 300.0, 1400.0, 1500.0, 250.0, 700.0, 1200.0, 400.0, 300.0, 300.0, 600.0, 250.0, 400.0, 400.0, 500.0, 500.0, 800.0, 350.0, 200.0, 150.0, 350.0, 300.0, 600.0, 150.0, 500.0, 1400.0, 200.0, 400.0, 800.0, 300.0, 150.0, 300.0, 300.0, 400.0, 2500.0, 250.0, 300.0, 400.0, 700.0, 200.0, 900.0, 400.0, 200.0, 200.0, 200.0, 250.0, 1100.0, 250.0, 400.0, 700.0, 450.0, 200.0, 900.0, 100.0, 200.0, 250.0, 800.0, 450.0, 800.0, 400.0, 300.0, 1200.0, 500.0, 100.0, 500.0, 400.0, 450.0, 2000.0, 400.0, 150.0, 250.0, 500.0, 100.0, 200.0, 300.0, 300.0, 1000.0, 200.0, 600.0, 800.0, 300.0, 300.0, 1000.0, 150.0, 250.0, 300.0, 800.0, 250.0, 600.0, 2300.0, 500.0, 550.0, 400.0, 400.0, 200.0, 800.0, 300.0, 300.0, 1200.0, 500.0, 1200.0, 800.0, 250.0, 1300.0, 500.0, 700.0, 2000.0, 1200.0, 500.0, 1400.0, 800.0, 600.0, 150.0, 500.0, 400.0, 750.0, 700.0, 850.0, 600.0, 400.0, 500.0, 800.0, 1200.0, 450.0, 150.0, 350.0, 900.0, 400.0, 300.0, 400.0, 300.0, 700.0, 300.0, 300.0, 200.0, 1200.0, 600.0, 300.0, 850.0, 400.0, 600.0, 200.0, 250.0, 450.0, 1000.0, 400.0, 600.0, 500.0, 700.0, 950.0, 600.0, 200.0, 1400.0, 350.0, 250.0, 500.0, 300.0, 500.0, 600.0, 200.0, 200.0, 200.0, 600.0, 750.0, 400.0, 1200.0, 200.0, 300.0, 300.0, 750.0, 550.0, 400.0, 500.0, 600.0, 150.0, 700.0, 200.0, 700.0, 800.0, 350.0, 300.0, 250.0, 200.0, 600.0, 550.0, 100.0, 1000.0, 1300.0, 500.0, 200.0, 800.0, 100.0, 750.0, 1200.0, 600.0, 1200.0, 300.0, 600.0, 300.0, 800.0, 100.0, 350.0, 650.0, 400.0, 300.0, 200.0, 150.0, 350.0, 200.0, 300.0, 2200.0, 350.0, 200.0, 500.0, 200.0, 300.0, 300.0, 600.0, 350.0, 200.0, 200.0, 650.0, 100.0, 200.0, 750.0, 700.0, 150.0, 300.0, 400.0, 500.0, 1000.0, 2400.0, 150.0, 200.0, 300.0, 400.0, 500.0, 200.0, 1000.0, 600.0, 250.0, 250.0, 600.0, 1000.0, 600.0, 200.0, 300.0, 400.0, 400.0, 450.0, 150.0, 350.0, 1600.0, 200.0, 1000.0, 200.0, 1100.0, 200.0, 1000.0, 200.0, 500.0, 700.0, 400.0, 950.0, 300.0, 400.0, 200.0, 400.0, 1500.0, 500.0, 200.0, 1300.0, 300.0, 350.0, 400.0, 200.0, 150.0, 400.0, 1800.0, 2000.0, 1200.0, 200.0, 500.0, 400.0, 1100.0, 450.0, 400.0, 400.0, 650.0, 300.0, 300.0, 1300.0, 1300.0, 600.0, 500.0, 450.0, 500.0, 300.0, 200.0, 300.0, 700.0, 1400.0, 500.0, 600.0, 400.0, 400.0, 400.0, 250.0, 350.0, 500.0, 300.0, 700.0, 250.0, 1300.0, 300.0, 1400.0, 600.0, 400.0, 500.0, 400.0, 500.0, 500.0, 300.0, 200.0, 200.0, 700.0, 400.0, 250.0, 500.0, 300.0, 1500.0, 350.0, 1000.0, 350.0, 400.0, 200.0, 1200.0, 1400.0, 450.0, 250.0, 300.0, 500.0, 200.0, 400.0, 600.0, 500.0]\n"
     ]
    }
   ],
   "source": [
    "import random \n",
    "n=  (random.sample(list(a), 1000))\n",
    "print (n)"
   ]
  },
  {
   "cell_type": "code",
   "execution_count": 63,
   "id": "2356007c",
   "metadata": {},
   "outputs": [
    {
     "name": "stdout",
     "output_type": "stream",
     "text": [
      "0.0\n",
      "Conclusion n Since p-value(=0.000000) < alpha(=0.05) We reject the null hypothesis H0. \n",
      "\n",
      "So we conclude that there is no significant mean difference cost for table of  two people . \n",
      "\n",
      "0.05 level of significance\n"
     ]
    }
   ],
   "source": [
    "from scipy import stats\n",
    "from statsmodels.stats import weightstats as stests\n",
    "ztest ,pval = stests.ztest(df['approx_cost(for two people)'])\n",
    "print(float(pval))\n",
    "\n",
    "alpha = 0.05\n",
    "\n",
    "if pval<=alpha:\n",
    "    \n",
    "    print('Conclusion','n','Since p-value(=%f)'%pval,'<','alpha(=%.2f)'%alpha,'''We reject the null hypothesis H0. \n",
    "\n",
    "So we conclude that there is no significant mean difference cost for table of  two people . \n",
    "\n",
    "%.2f level of significance'''%alpha)\n",
    "\n",
    "else:\n",
    "\n",
    "    print('Conclusion','n','Since p-value(=%f)'%pval,'>','alpha(=%.2f)'%alpha,\n",
    "           '''We do not reject the null hypothesis H0.\n",
    "So we conclude that there is   significant mean difference in cost of two  ''')\n",
    "   "
   ]
  },
  {
   "cell_type": "code",
   "execution_count": 64,
   "id": "7d34c01c",
   "metadata": {},
   "outputs": [
    {
     "name": "stdout",
     "output_type": "stream",
     "text": [
      "0.0\n",
      "Null  hypothesis Rejected , The votes obtained are dependent on rates gained by the restaurant \n"
     ]
    }
   ],
   "source": [
    "ztest ,pval1 = stests.ztest(df['rate'], x2=df['votes'])\n",
    "print(float(pval1))\n",
    "if pval<0.05:\n",
    "    print(\"Null  hypothesis Rejected , The votes obtained are dependent on rates gained by the restaurant \")\n",
    "else:\n",
    "    print(\"Null Hypothesis Accpeted , the votes are indepented of rates gained by the restaurant \")"
   ]
  },
  {
   "cell_type": "markdown",
   "id": "84683c54",
   "metadata": {},
   "source": [
    " ## chi Square Testing                                                                                                                       H0 : Booking of table and Online order are independent of each other.                                        H1: Booking of table and Online order are dependent of each other.\n"
   ]
  },
  {
   "cell_type": "code",
   "execution_count": 66,
   "id": "4af5a9f1",
   "metadata": {},
   "outputs": [
    {
     "data": {
      "text/plain": [
       "0.659251887852286"
      ]
     },
     "execution_count": 66,
     "metadata": {},
     "output_type": "execute_result"
    }
   ],
   "source": [
    "from scipy.stats import chi2_contingency\n",
    "contigency= pd.crosstab(df['online_order'], df['book_table'])\n",
    "contigency\n",
    "\n",
    "c, p, dof, expected = chi2_contingency(contigency)\n",
    "p"
   ]
  },
  {
   "cell_type": "markdown",
   "id": "3c41217e",
   "metadata": {},
   "source": [
    "# Conclusion:"
   ]
  },
  {
   "cell_type": "markdown",
   "id": "fd1cac73",
   "metadata": {},
   "source": [
    "\n",
    "1 - A restaurant must be able to reserve a table because it can be seen from the graph plot above, it is evident that the ratings of restaurants that can book a table differ greatly from those who cannot\n",
    "2 -Although Online Ordering doesn't seem to have much difference, it's a step better for a restaurant to be ordered online because it can increase the number of votes\n",
    "3-The type of restaurant is also not only 1, a restaurant must have more than 1 type because it appears that a restaurant that has more than 1 has more votes\n",
    "4- Affordable prices means high votes, and high prices meaning  less votes, therefore to build a considered successfull restaurant, one must built it with affordable prices to pay\n",
    "High Votes = High Rate\n",
    "so our main concern to be considered as a successfull restaurant are getting high number of vote"
   ]
  },
  {
   "cell_type": "code",
   "execution_count": null,
   "id": "4db6b181",
   "metadata": {},
   "outputs": [],
   "source": []
  },
  {
   "cell_type": "code",
   "execution_count": null,
   "id": "72e5e3e6",
   "metadata": {},
   "outputs": [],
   "source": []
  }
 ],
 "metadata": {
  "kernelspec": {
   "display_name": "Python 3 (ipykernel)",
   "language": "python",
   "name": "python3"
  },
  "language_info": {
   "codemirror_mode": {
    "name": "ipython",
    "version": 3
   },
   "file_extension": ".py",
   "mimetype": "text/x-python",
   "name": "python",
   "nbconvert_exporter": "python",
   "pygments_lexer": "ipython3",
   "version": "3.9.7"
  }
 },
 "nbformat": 4,
 "nbformat_minor": 5
}
